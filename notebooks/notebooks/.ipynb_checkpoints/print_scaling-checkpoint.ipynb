{
 "cells": [
  {
   "cell_type": "code",
   "execution_count": 1,
   "id": "b28ec784-bb14-4e96-bb0b-d6b1a7490e71",
   "metadata": {},
   "outputs": [],
   "source": [
    "import numpy as np\n",
    "import matplotlib.pyplot as plt\n",
    "import seaborn as sns\n",
    "from scipy import sparse\n",
    "from style import *\n",
    "from  matplotlib.ticker import ScalarFormatter\n",
    "import os\n",
    "import pandas as pd\n",
    "from scipy.special import comb\n",
    "import itertools as it\n",
    "\n",
    "%matplotlib inline"
   ]
  },
  {
   "cell_type": "code",
   "execution_count": 49,
   "id": "442cf7ad-3ddb-4c49-b4cf-a94ecbc26b68",
   "metadata": {},
   "outputs": [
    {
     "data": {
      "image/png": "[encoded data removed]",
      "text/plain": [
       "<Figure size 302.4x181.44 with 1 Axes>"
      ]
     },
     "metadata": {
      "needs_background": "light"
     },
     "output_type": "display_data"
    }
   ],
   "source": [
    "# a4 paper width with margins\n",
    "width_ratio = 0.6\n",
    "fig_width = width_ratio * set_fontsize_and_get_fig_width('usletter')\n",
    "fig_ratio = 0.6\n",
    "fig_height = fig_ratio * fig_width\n",
    "fig_size = (fig_width, fig_height)\n",
    "\n",
    "pal = sns.color_palette()\n",
    "\n",
    "marker = it.cycle(('o','s','d','^','v', 'D', 'P', '*'))\n",
    "ls = it.cycle(['-','--','-.',':'])\n",
    "\n",
    "fig, ax = plt.subplots(1, figsize = fig_size)\n",
    "\n",
    "x = np.arange(5)\n",
    "y = x\n",
    "\n",
    "text = ['Hartree-Fock/DFT', 'Perturbation Theory', \n",
    "        'Coupled cluster', 'DMRG/Monte Carlo', 'FCI/Exact diag.']\n",
    "\n",
    "for i, t in enumerate(text):\n",
    "    ax.annotate(t, (x[i]+0.2, y[i]-0.2))\n",
    "\n",
    "ax.plot(x, y, '--')\n",
    "ax.plot(x, y, 'o')\n",
    "\n",
    "ax.axhline(2.5, c='k', ls='--', alpha=0.5)\n",
    "ax.set_xlim(-0.2,5)\n",
    "ax.set_ylim(-0.5,5)\n",
    "ax.set_xticks(x)\n",
    "ax.set_xticklabels([r'$N^3$', r'$N^5$', r'$N^7$', r'e$^N$', r'$N!$'])\n",
    "ax.set_yticks([])\n",
    "ax.text(0,2.7, \"chemical accuracy\")\n",
    "ax.set_xlabel('Computational cost', fontsize='large')\n",
    "ax.set_ylabel('Accuracy', fontsize='larger')\n",
    "\n",
    "\n",
    "fig.tight_layout()\n",
    "fig.savefig('method-scaling.pdf', \n",
    "            bbox_inches='tight', \n",
    "            transparent=True)\n",
    "\n",
    "fig.savefig('../slides/figures/method-scaling.pdf', \n",
    "            bbox_inches='tight', \n",
    "            transparent=True)"
   ]
  },
  {
   "cell_type": "code",
   "execution_count": 5,
   "id": "f4db4bf8-69af-4239-9bad-27b1954f3ada",
   "metadata": {},
   "outputs": [
    {
     "data": {
      "image/png": "[encoded data removed]",
      "text/plain": [
       "<Figure size 352.8x211.68 with 1 Axes>"
      ]
     },
     "metadata": {
      "needs_background": "light"
     },
     "output_type": "display_data"
    }
   ],
   "source": []
  },
  {
   "cell_type": "code",
   "execution_count": null,
   "id": "ba9bbc90-ee5d-4875-980d-43d4cc95f676",
   "metadata": {},
   "outputs": [],
   "source": []
  }
 ],
 "metadata": {
  "kernelspec": {
   "display_name": "Python 3 (ipykernel)",
   "language": "python",
   "name": "python3"
  },
  "language_info": {
   "codemirror_mode": {
    "name": "ipython",
    "version": 3
   },
   "file_extension": ".py",
   "mimetype": "text/x-python",
   "name": "python",
   "nbconvert_exporter": "python",
   "pygments_lexer": "ipython3",
   "version": "3.9.14"
  }
 },
 "nbformat": 4,
 "nbformat_minor": 5
}
